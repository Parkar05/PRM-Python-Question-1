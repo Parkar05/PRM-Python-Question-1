{
 "cells": [
  {
   "cell_type": "code",
   "execution_count": 37,
   "id": "8e9f4008",
   "metadata": {},
   "outputs": [],
   "source": [
    "#You will have a number of elements and in the next n lines element of a list.You have to create a list from \n",
    "#the given strings. You have to sort the list based on 2nd last character of a string.\n",
    "#For example: given list = ['great','hello','hiyo','abc'] so your output_dictionary should be ['great', 'abc', 'hello','hiyo']\n",
    "#Input Format:\n",
    "#At first-line it will have an integer (number of elements inside a list). In the second line, it will have a string.\n",
    "#Output Format:\n",
    "#A single line containing a sorted list.\n"
   ]
  },
  {
   "cell_type": "code",
   "execution_count": 7,
   "id": "164772aa",
   "metadata": {},
   "outputs": [
    {
     "name": "stdout",
     "output_type": "stream",
     "text": [
      "Enter number of element inside a list :4\n",
      "great hello hiyo abc\n",
      "The entered list is : ['great', 'hello', 'hiyo', 'abc']\n",
      "Sorted list  ['great', 'abc', 'hello', 'hiyo']\n"
     ]
    }
   ],
   "source": [
    "m= int(input(\"Enter number of element inside a list :\"))\n",
    "n = list(map(str,input().split()))\n",
    "print(\"The entered list is :\",n)\n",
    "for i in range(0,len(n)):\n",
    "    for j in range(0,len(n)-i-1):\n",
    "        if (ord(n[j][-2])>ord(n[j+1][-2])):\n",
    "            swap=n[j]\n",
    "            n[j]=n[j+1]\n",
    "            n[j+1]=swap\n",
    "print(\"Sorted list \"  ,n)\n"
   ]
  },
  {
   "cell_type": "code",
   "execution_count": null,
   "id": "5637ea93",
   "metadata": {},
   "outputs": [],
   "source": []
  }
 ],
 "metadata": {
  "kernelspec": {
   "display_name": "Python 3 (ipykernel)",
   "language": "python",
   "name": "python3"
  },
  "language_info": {
   "codemirror_mode": {
    "name": "ipython",
    "version": 3
   },
   "file_extension": ".py",
   "mimetype": "text/x-python",
   "name": "python",
   "nbconvert_exporter": "python",
   "pygments_lexer": "ipython3",
   "version": "3.9.12"
  }
 },
 "nbformat": 4,
 "nbformat_minor": 5
}
